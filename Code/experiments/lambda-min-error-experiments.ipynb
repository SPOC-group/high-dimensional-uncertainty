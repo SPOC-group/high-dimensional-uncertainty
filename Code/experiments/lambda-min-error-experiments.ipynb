{
 "cells": [
  {
   "cell_type": "markdown",
   "id": "7dfcdc88",
   "metadata": {},
   "source": [
    "## Table of contents:\n",
    "* [Loading data](#loading-data)\n",
    "* [Compute calibration](#compute-calibration)"
   ]
  },
  {
   "cell_type": "code",
   "execution_count": 3,
   "id": "c1b9dbe4",
   "metadata": {},
   "outputs": [],
   "source": [
    "import matplotlib.pyplot as plt\n",
    "import numpy as np\n",
    "from matplotlib.pyplot import figure\n",
    "\n",
    "import sys\n",
    "sys.path.append('../../Libraries/GCMProject')\n",
    "sys.path.append('../../Libraries')\n",
    "sys.path.append('../core')\n",
    "sys.path.append('..')\n",
    "\n",
    "from core import gcm_erm, data, erm\n",
    "from overlaps import Overlaps, average_overlaps\n",
    "import core.calibration\n",
    "calibration = core.calibration\n",
    "import datalogging\n",
    "import utility\n",
    "import json\n",
    "from experiments import overlap_erm_bo, joint_density, display\n",
    "\n",
    "%load_ext autoreload\n",
    "%autoreload 2"
   ]
  },
  {
   "cell_type": "markdown",
   "id": "e2bee7ef",
   "metadata": {},
   "source": [
    "### Plot for $\\tau = 0.5$ <a class=\"anchor\" id=\"loading-data\"></a>"
   ]
  },
  {
   "cell_type": "code",
   "execution_count": 15,
   "id": "e769337d",
   "metadata": {},
   "outputs": [],
   "source": [
    "# NOTE : Here, the values of optimal lambda (error and loss) are hardcoded for simplicity\n",
    "\n",
    "alphas = [0.1, 0.3, 0.64444444, 0.77777778, 1.25555556, 1.73333333, 2.21111111, 2.27777778, 2.68888889, 2.82222222, 3.36666667, 3.91111111, 4.12222222, 4.45555556, 4.6, 5., 5.5, 5.94444444]\n",
    "alphas_loss = [0.1, 0.3, 0.64444444, 0.77777778, 1.18888889, 1.25555556, 1.73333333, 1.73333333, 2.21111111, 2.27777778, 2.68888889, 2.82222222\n",
    ", 3.16666667, 3.36666667, 3.64444444, 3.91111111, 4.12222222, 4.45555556, 4.6, 5.5, 5.94444444]\n",
    "\n",
    "lambdas_error = [0.15707089, 0.15192841, 0.14269407, 0.13949883, 0.13070956, 0.12294952, 0.11767612, 0.11685053, 0.11335602, 0.11262331, 0.10818084, 0.10682432, 0.1059374, 0.10404697, 0.10382364, 0.10194337, 0.101381, 0.10053462]\n",
    "lambdas_loss  = [0.24993965, 0.23108275, 0.20510443, 0.19612455, 0.17472299, 0.17183171,\n",
    " 0.15519736, 0.15519736, 0.14325259, 0.14169219, 0.13406006, 0.13207289,\n",
    " 0.1278976,  0.12577201, 0.12251133, 0.11987922, 0.11830503, 0.11566855,\n",
    " 0.1150262,  0.11003591, 0.10810678]\n"
   ]
  },
  {
   "cell_type": "code",
   "execution_count": 12,
   "id": "301a6022",
   "metadata": {},
   "outputs": [],
   "source": [
    "sigma = 0.5\n",
    "alphas, lambdas_error, error_list, loss_list = datalogging.try_loading_lambda_from_csv(sigma, '../../../UncertaintyNN/Code/experiments_results/lambda_search/lambda_search.csv', include_errors = True)\n",
    "alphas_loss, lambdas_loss, error_list_loss, loss_list_loss = datalogging.try_loading_lambda_from_csv(sigma, '../../../UncertaintyNN/Code/experiments_results/lambda_search/lambda_search_loss.csv', include_errors = True)\n",
    "\n",
    "alphas, alphas_loss, lambdas_error, lambdas_loss = np.array(alphas), np.array(alphas_loss), np.array(lambdas_error), np.array(lambdas_loss)\n",
    "error_list, loss_list, error_list_loss, loss_list_loss = np.array(error_list), np.array(loss_list), np.array(error_list_loss), np.array(loss_list_loss)\n",
    "\n",
    "idx = np.argsort(alphas)\n",
    "alphas, lambdas_error = alphas[idx], lambdas_error[idx]\n",
    "error_list, loss_list = error_list[idx], loss_list[idx]\n",
    "idx = np.argsort(alphas_loss)\n",
    "\n",
    "alphas_loss, lambdas_loss = alphas_loss[idx], lambdas_loss[idx]\n",
    "error_list_loss, loss_list_loss = error_list_loss[idx], loss_list_loss[idx]"
   ]
  },
  {
   "cell_type": "code",
   "execution_count": 16,
   "id": "c7d036df",
   "metadata": {},
   "outputs": [
    {
     "data": {
      "image/png": "[encoded data removed]",
      "text/plain": [
       "<Figure size 432x288 with 1 Axes>"
      ]
     },
     "metadata": {
      "needs_background": "light"
     },
     "output_type": "display_data"
    }
   ],
   "source": [
    "fig = plt.figure()\n",
    "ax = fig.add_subplot()\n",
    "\n",
    "plt.plot(alphas, lambdas_error, 'b', label='$\\\\lambda_{error}$')\n",
    "try:\n",
    "    plt.plot(alphas_loss, lambdas_loss, 'r', label='$\\\\lambda_{loss}$')\n",
    "except Exception as e:\n",
    "    print(e)\n",
    "    \n",
    "ax.set_aspect(1./ax.get_data_ratio())\n",
    "\n",
    "# plt.title(f'Optimal $\\\\lambda$ $\\\\sigma$ = {sigma}')\n",
    "\n",
    "plt.xlabel('$\\\\alpha$', fontsize=16)\n",
    "plt.ylabel('$\\\\lambda$', fontsize=16)\n",
    "plt.grid()\n",
    "\n",
    "\n",
    "\n",
    "plt.legend(fontsize=16)\n",
    "plt.savefig('Figures/optimal_lambda_tau_0.5.pdf')\n",
    "plt.show()"
   ]
  },
  {
   "cell_type": "markdown",
   "id": "4ff6ec94",
   "metadata": {},
   "source": [
    "### Compute overlaps"
   ]
  },
  {
   "cell_type": "code",
   "execution_count": 20,
   "id": "db4d8aaa",
   "metadata": {},
   "outputs": [],
   "source": [
    "def compute_overlaps(alphas, lambdas, sigma, ntrials : int = 10):\n",
    "    d = 500\n",
    "    \n",
    "    overlaps = []\n",
    "    for (a, l) in zip(alphas, lambdas):\n",
    "        print(a, l)\n",
    "        ov = overlap_erm_bo.get_average_theoretical_separate_overlap_reduced(a, l, sigma, ntrials, precision = 1e-5, code_version = 'gcm', d=d) \n",
    "        overlaps.append(ov)\n",
    "    return overlaps"
   ]
  },
  {
   "cell_type": "code",
   "execution_count": 29,
   "id": "eafc3fbd",
   "metadata": {},
   "outputs": [],
   "source": [
    "def load_overlaps(alphas, lambdas, sigma):   \n",
    "    filename = 'overlaps.csv'\n",
    "    overlaps = []\n",
    "    for (a, l) in zip(alphas, lambdas):\n",
    "        res = datalogging.try_loading_overlaps_from_csv(a, sigma, l, filename, as_object = True)\n",
    "        _, _, _, ov = res\n",
    "        overlaps.append(ov)\n",
    "    return overlaps"
   ]
  },
  {
   "cell_type": "code",
   "execution_count": 31,
   "id": "ad4e1067",
   "metadata": {
    "scrolled": true
   },
   "outputs": [
    {
     "name": "stdout",
     "output_type": "stream",
     "text": [
      "Sigma is 0.5\n",
      "%%%%%% LAMBDA ERRROR %%% \n",
      "%%%%%% LAMBDA LOSSS %%% \n"
     ]
    }
   ],
   "source": [
    "# Overlaps are pre-computed and saved in the file overlaps.csv\n",
    "# You can load them by uncommenting the lines with ... load_overlaps ... \n",
    "# You can recompute them by uncommenting the lines with ... compute_overlaps ... \n",
    "\n",
    "overlaps_error = []\n",
    "overlaps_loss  = []\n",
    "\n",
    "k = len(alphas)\n",
    "ntrials = 5\n",
    "\n",
    "print(f'Sigma is {sigma}')\n",
    "\n",
    "print('%%%%%% LAMBDA ERRROR %%% ')\n",
    "\n",
    "# overlaps_error = compute_overlaps(alphas, lambdas_error, sigma, ntrials)\n",
    "overlaps_error = load_overlaps(alphas, lambdas_error, sigma)\n",
    "\n",
    "print('%%%%%% LAMBDA LOSSS %%% ')\n",
    "\n",
    "# overlaps_loss = compute_overlaps(alphas_loss, lambdas_loss, sigma, ntrials)\n",
    "overlaps_loss = load_overlaps(alphas_loss, lambdas_loss, sigma)\n"
   ]
  },
  {
   "cell_type": "markdown",
   "id": "f81cecb5",
   "metadata": {},
   "source": [
    "### Compute calibration <a class=\"anchor\" id=\"compute-calibration\"></a>"
   ]
  },
  {
   "cell_type": "code",
   "execution_count": 32,
   "id": "0644f2a0",
   "metadata": {},
   "outputs": [],
   "source": [
    "p = 0.75"
   ]
  },
  {
   "cell_type": "code",
   "execution_count": 33,
   "id": "72fcc0b2",
   "metadata": {},
   "outputs": [],
   "source": [
    "# FOR THE ERROR \n",
    "\n",
    "k = len(alphas)\n",
    "teacher_cals_list = np.zeros((k,))\n",
    "\n",
    "for i in range(k):\n",
    "    o = overlaps_error[i].__dict__\n",
    "    m_list[i] = o['m']\n",
    "    teacher_cals_list[i] = core.calibration.compute_teacher_calibration(p, o['rho'], o['qerm'], o['m'], sigma)\n",
    "    \n",
    "#### FOR THE LOSS\n",
    "\n",
    "k = len(alphas_loss)\n",
    "loss_teacher_cals_list = np.zeros((k,))\n",
    "exp_loss_teacher_cals_list = np.zeros((k,))\n",
    "loss_m_list    = np.zeros((k,))\n",
    "\n",
    "for i in range(k):\n",
    "    o = overlaps_loss[i].__dict__\n",
    "    loss_m_list[i] = o['m']\n",
    "    loss_teacher_cals_list[i] = core.calibration.compute_teacher_calibration(p, o['rho'], o['qerm'], o['m'], sigma)"
   ]
  },
  {
   "cell_type": "code",
   "execution_count": 35,
   "id": "7c5ed09d",
   "metadata": {
    "scrolled": true
   },
   "outputs": [
    {
     "name": "stdout",
     "output_type": "stream",
     "text": [
      "0.1 0.15707089\n",
      " ...  nan\n",
      "0.3 0.15192841\n",
      " ...  nan\n",
      "0.64444444 0.14269407\n",
      " ...  0.03587993800155216\n",
      "0.77777778 0.13949883\n",
      " ...  0.040339919370602786\n",
      "1.25555556 0.13070956\n",
      " ...  0.037460289876721474\n",
      "1.73333333 0.12294952\n",
      " ...  0.02693418942832041\n",
      "2.21111111 0.11767612\n",
      " ...  0.025602395203284257\n",
      "2.27777778 0.11685053\n",
      " ...  0.024166095757393334\n",
      "2.68888889 0.11335602\n",
      " ...  0.03225860074647251\n",
      "2.82222222 0.11262331\n",
      " ...  0.027147141769831126\n",
      "3.36666667 0.10818084\n",
      " ...  0.027488606307138945\n",
      "3.91111111 0.10682432\n",
      " ...  0.024635729941836458\n",
      "4.12222222 0.1059374\n",
      " ...  0.02202764091927447\n",
      "4.45555556 0.10404697\n",
      " ...  0.023035982942585728\n",
      "4.6 0.10382364\n",
      " ...  0.020628508679181506\n",
      "5.0 0.10194337\n",
      " ...  0.021916554699294738\n",
      "5.5 0.101381\n",
      " ...  0.016627423649574608\n",
      "5.94444444 0.10053462\n",
      " ...  0.015505005503360168\n",
      "0.1 0.24993965\n",
      "0.3 0.23108275\n",
      "0.64444444 0.20510443\n",
      "0.77777778 0.19612455\n",
      "1.18888889 0.17472299\n",
      "1.25555556 0.17183171\n",
      "1.73333333 0.15519736\n",
      "1.73333333 0.15519736\n",
      "2.21111111 0.14325259\n",
      "2.27777778 0.14169219\n",
      "2.68888889 0.13406006\n",
      "2.82222222 0.13207289\n",
      "3.16666667 0.1278976\n",
      "3.36666667 0.12577201\n",
      "3.64444444 0.12251133\n",
      "3.91111111 0.11987922\n",
      "4.12222222 0.11830503\n",
      "4.45555556 0.11566855\n",
      "4.6 0.1150262\n",
      "5.5 0.11003591\n",
      "5.94444444 0.10810678\n"
     ]
    }
   ],
   "source": [
    "# compute calibration fully experimentally \n",
    "# TAKES A LOT OF TIME TO RUN WITH N = 1000 TRIALS !!! \n",
    "\n",
    "full_exp_cals_list = []\n",
    "std                = []\n",
    "full_exp_loss_cals_list = []\n",
    "loss_std = []\n",
    "\n",
    "d     = 300\n",
    "ntest = 50000\n",
    "ntrials = 200\n",
    "\n",
    "ex_alphas = alphas\n",
    "ex_alphas_loss = alphas_loss\n",
    "ex_lambdas_error = lambdas_error\n",
    "ex_lambdas_loss  = lambdas_loss\n",
    "\n",
    "for a, l in zip(ex_alphas, ex_lambdas_error):\n",
    "    print(a, l)\n",
    "    tmp_list = []\n",
    "    for i in range(ntrials):\n",
    "        w, X, y = data.sample_instance(d, a, 'probit', sig = sigma)\n",
    "        werm = erm.erm_logistic_regression(X, y, l)\n",
    "        Xtest, Ytest = data.sample_data(w, a, 'probit', sig = sigma)\n",
    "        tmp_list.append(calibration.compute_experimental_teacher_calibration(p, w, werm, Xtest, Ytest, sigma))\n",
    "    full_exp_cals_list.append(np.mean(tmp_list))\n",
    "    print(' ... ', np.mean(tmp_list))\n",
    "    std.append(np.std(tmp_list))\n",
    "    \n",
    "for a, l in zip(ex_alphas_loss, ex_lambdas_loss):\n",
    "    print(a, l)\n",
    "    tmp_list = []\n",
    "    for i in range(ntrials):\n",
    "        w, X, y = data.sample_instance(d, a, 'probit', sig = sigma)\n",
    "        werm = erm.erm_logistic_regression(X, y, l)\n",
    "        Xtest, Ytest = data.sample_data(w, a, 'probit', sig = sigma)\n",
    "        tmp_list.append(calibration.compute_experimental_teacher_calibration(p, w, werm, Xtest, Ytest, sigma))\n",
    "    full_exp_loss_cals_list.append(np.mean(tmp_list))\n",
    "    loss_std.append(np.std(tmp_list))"
   ]
  },
  {
   "cell_type": "code",
   "execution_count": 36,
   "id": "f26b22ae",
   "metadata": {},
   "outputs": [
    {
     "name": "stderr",
     "output_type": "stream",
     "text": [
      "/var/folders/j2/fp7w_fyd3sbg73tfmz4s573c0000gn/T/ipykernel_22474/3594702334.py:10: UserWarning: marker is redundantly defined by the 'marker' keyword argument and the fmt string \".\" (-> marker='.'). The keyword argument will take precedence.\n",
      "  plt.errorbar(ex_alphas, full_exp_cals_list, yerr= np.array(std) / np.sqrt(ntrials), fmt='.', c='b', marker='x')\n",
      "/var/folders/j2/fp7w_fyd3sbg73tfmz4s573c0000gn/T/ipykernel_22474/3594702334.py:11: UserWarning: marker is redundantly defined by the 'marker' keyword argument and the fmt string \".\" (-> marker='.'). The keyword argument will take precedence.\n",
      "  plt.errorbar(ex_alphas_loss, full_exp_loss_cals_list, yerr = np.array(loss_std) / np.sqrt(ntrials), fmt='.', marker='x', c='r')\n"
     ]
    },
    {
     "data": {
      "image/png": "[encoded data removed]",
      "text/plain": [
       "<Figure size 432x288 with 1 Axes>"
      ]
     },
     "metadata": {
      "needs_background": "light"
     },
     "output_type": "display_data"
    }
   ],
   "source": [
    "\n",
    "\n",
    "fig = plt.figure()\n",
    "ax = fig.add_subplot()\n",
    "\n",
    "plt.grid()\n",
    "plt.title('Calibration at p = {:.2f} for $\\\\sigma$ = {}'.format(p, sigma))\n",
    "\n",
    "plt.plot(alphas, teacher_cals_list, 'b', label='$\\\\lambda_{error}$')\n",
    "plt.plot(alphas_loss, loss_teacher_cals_list, 'r', label='$\\\\lambda_{loss}$')\n",
    "\n",
    "plt.errorbar(ex_alphas, full_exp_cals_list, yerr= np.array(std) / np.sqrt(ntrials), fmt='.', c='b', marker='x')\n",
    "plt.errorbar(ex_alphas_loss, full_exp_loss_cals_list, yerr = np.array(loss_std) / np.sqrt(ntrials), fmt='.', marker='x', c='r')\n",
    "\n",
    "legend = plt.legend(prop={'size':16})\n",
    "legend.get_frame().set_alpha(1)\n",
    "plt.xlabel('$\\\\alpha$', fontsize=16)\n",
    "plt.ylabel('$\\\\Delta_p$', fontsize=16)\n",
    "ax.set_aspect(1./ax.get_data_ratio())\n",
    "\n",
    "# NOTE : Changer le sigma pour mettre sigma 0\n",
    "plt.savefig('Figures/calibration_sigma_0.5.pdf', bbox_inches='tight')"
   ]
  }
 ],
 "metadata": {
  "kernelspec": {
   "display_name": "Python 3.9.6 64-bit ('ml': conda)",
   "language": "python",
   "name": "python396jvsc74a57bd0e0289065fd70ee0301126581a02cae4c59a3b78f12d586ce6d502aba513ac9a8"
  },
  "language_info": {
   "codemirror_mode": {
    "name": "ipython",
    "version": 3
   },
   "file_extension": ".py",
   "mimetype": "text/x-python",
   "name": "python",
   "nbconvert_exporter": "python",
   "pygments_lexer": "ipython3",
   "version": "3.9.6"
  }
 },
 "nbformat": 4,
 "nbformat_minor": 5
}
